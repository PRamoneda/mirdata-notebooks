{
  "nbformat": 4,
  "nbformat_minor": 0,
  "metadata": {
    "colab": {
      "name": "evaluating_essentia_tempo_extractor.ipynb",
      "provenance": [],
      "authorship_tag": "ABX9TyPIInWt3GDa+VjFiQkCEnh/",
      "include_colab_link": true
    },
    "kernelspec": {
      "name": "python3",
      "display_name": "Python 3"
    }
  },
  "cells": [
    {
      "cell_type": "markdown",
      "metadata": {
        "id": "view-in-github",
        "colab_type": "text"
      },
      "source": [
        "<a href=\"https://colab.research.google.com/github/PRamoneda/mirdata-notebooks/blob/master/giantsteps_tempo/evaluating_essentia_tempo_extractor.ipynb\" target=\"_parent\"><img src=\"https://colab.research.google.com/assets/colab-badge.svg\" alt=\"Open In Colab\"/></a>"
      ]
    },
    {
      "cell_type": "markdown",
      "metadata": {
        "id": "qda7BUKeP688"
      },
      "source": [
        "#Evaluating essentia tempo extractor over GiantASteps EDM datasets.\n",
        "\n",
        "In this colabolatory notebook we are going going to show how **to load GiantSteps EDM tempo dataset**. And we are going to evalute the essentia [**tempo extractor**](https://essentia.upf.edu/reference/std_RhythmExtractor.html) `RhythmExtractor(...)` againts the two versions of this dataset."
      ]
    },
    {
      "cell_type": "code",
      "metadata": {
        "id": "g4ffDVxONTFt"
      },
      "source": [
        ""
      ],
      "execution_count": null,
      "outputs": []
    }
  ]
}