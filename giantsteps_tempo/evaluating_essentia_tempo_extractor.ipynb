{
  "nbformat": 4,
  "nbformat_minor": 0,
  "metadata": {
    "colab": {
      "name": "evaluating_essentia_tempo_extractor.ipynb",
      "provenance": [],
      "collapsed_sections": [],
      "authorship_tag": "ABX9TyMPsr6Fzg7vCwoSz3xUZ3U1",
      "include_colab_link": true
    },
    "kernelspec": {
      "name": "python3",
      "display_name": "Python 3"
    }
  },
  "cells": [
    {
      "cell_type": "markdown",
      "metadata": {
        "id": "view-in-github",
        "colab_type": "text"
      },
      "source": [
        "<a href=\"https://colab.research.google.com/github/PRamoneda/mirdata-notebooks/blob/master/giantsteps_tempo/evaluating_essentia_tempo_extractor.ipynb\" target=\"_parent\"><img src=\"https://colab.research.google.com/assets/colab-badge.svg\" alt=\"Open In Colab\"/></a>"
      ]
    },
    {
      "cell_type": "markdown",
      "metadata": {
        "id": "qda7BUKeP688"
      },
      "source": [
        "#Evaluating essentia tempo extractor over GiantASteps EDM datasets.\n",
        "\n",
        "In this colabolatory notebook we are going going to show how **to load GiantSteps EDM tempo dataset**. And we are going to evalute the essentia [**tempo extractor**](https://essentia.upf.edu/reference/std_RhythmExtractor2013.html) `RhythmExtractor2013(...)` over the two versions of this dataset."
      ]
    },
    {
      "cell_type": "markdown",
      "metadata": {
        "id": "jqtU6286lzcw"
      },
      "source": [
        "## mirdata installation"
      ]
    },
    {
      "cell_type": "code",
      "metadata": {
        "id": "A4m17-8fl8UK",
        "outputId": "24dc3240-a75a-424e-a5ec-4d05166ae82e",
        "colab": {
          "base_uri": "https://localhost:8080/",
          "height": 1000
        }
      },
      "source": [
        "# !pip install git+https://github.com/mir-dataset-loaders/mirdata.git\n",
        "!pip install git+https://github.com/MTG/mirdata.git@Pedro/giantsteps_tempo"
      ],
      "execution_count": 1,
      "outputs": [
        {
          "output_type": "stream",
          "text": [
            "Collecting git+https://github.com/MTG/mirdata.git@Pedro/giantsteps_tempo\n",
            "  Cloning https://github.com/MTG/mirdata.git (to revision Pedro/giantsteps_tempo) to /tmp/pip-req-build-3zuidj8f\n",
            "  Running command git clone -q https://github.com/MTG/mirdata.git /tmp/pip-req-build-3zuidj8f\n",
            "  Running command git checkout -b Pedro/giantsteps_tempo --track origin/Pedro/giantsteps_tempo\n",
            "  Switched to a new branch 'Pedro/giantsteps_tempo'\n",
            "  Branch 'Pedro/giantsteps_tempo' set up to track remote branch 'Pedro/giantsteps_tempo' from 'origin'.\n",
            "Requirement already satisfied: tqdm in /usr/local/lib/python3.6/dist-packages (from mirdata==0.2.0.dev0) (4.41.1)\n",
            "Requirement already satisfied: numba==0.48 in /usr/local/lib/python3.6/dist-packages (from mirdata==0.2.0.dev0) (0.48.0)\n",
            "Collecting librosa>=0.7.0\n",
            "\u001b[?25l  Downloading https://files.pythonhosted.org/packages/26/4d/c22d8ca74ca2c13cd4ac430fa353954886104321877b65fa871939e78591/librosa-0.8.0.tar.gz (183kB)\n",
            "\u001b[K     |████████████████████████████████| 184kB 2.6MB/s \n",
            "\u001b[?25hRequirement already satisfied: numpy>=1.16 in /usr/local/lib/python3.6/dist-packages (from mirdata==0.2.0.dev0) (1.18.5)\n",
            "Collecting jams\n",
            "\u001b[?25l  Downloading https://files.pythonhosted.org/packages/cc/1a/761a500a9512937931e325b8950195f17e5ba991c92d38d2079a2d8c5590/jams-0.3.4.tar.gz (51kB)\n",
            "\u001b[K     |████████████████████████████████| 61kB 5.4MB/s \n",
            "\u001b[?25hRequirement already satisfied: requests in /usr/local/lib/python3.6/dist-packages (from mirdata==0.2.0.dev0) (2.23.0)\n",
            "Collecting pretty_midi>=0.2.8\n",
            "\u001b[?25l  Downloading https://files.pythonhosted.org/packages/bc/8e/63c6e39a7a64623a9cd6aec530070c70827f6f8f40deec938f323d7b1e15/pretty_midi-0.2.9.tar.gz (5.6MB)\n",
            "\u001b[K     |████████████████████████████████| 5.6MB 7.4MB/s \n",
            "\u001b[?25hRequirement already satisfied: setuptools in /usr/local/lib/python3.6/dist-packages (from numba==0.48->mirdata==0.2.0.dev0) (50.3.0)\n",
            "Requirement already satisfied: llvmlite<0.32.0,>=0.31.0dev0 in /usr/local/lib/python3.6/dist-packages (from numba==0.48->mirdata==0.2.0.dev0) (0.31.0)\n",
            "Requirement already satisfied: audioread>=2.0.0 in /usr/local/lib/python3.6/dist-packages (from librosa>=0.7.0->mirdata==0.2.0.dev0) (2.1.8)\n",
            "Requirement already satisfied: scipy>=1.0.0 in /usr/local/lib/python3.6/dist-packages (from librosa>=0.7.0->mirdata==0.2.0.dev0) (1.4.1)\n",
            "Requirement already satisfied: scikit-learn!=0.19.0,>=0.14.0 in /usr/local/lib/python3.6/dist-packages (from librosa>=0.7.0->mirdata==0.2.0.dev0) (0.22.2.post1)\n",
            "Requirement already satisfied: joblib>=0.14 in /usr/local/lib/python3.6/dist-packages (from librosa>=0.7.0->mirdata==0.2.0.dev0) (0.16.0)\n",
            "Requirement already satisfied: decorator>=3.0.0 in /usr/local/lib/python3.6/dist-packages (from librosa>=0.7.0->mirdata==0.2.0.dev0) (4.4.2)\n",
            "Requirement already satisfied: resampy>=0.2.2 in /usr/local/lib/python3.6/dist-packages (from librosa>=0.7.0->mirdata==0.2.0.dev0) (0.2.2)\n",
            "Collecting soundfile>=0.9.0\n",
            "  Downloading https://files.pythonhosted.org/packages/eb/f2/3cbbbf3b96fb9fa91582c438b574cff3f45b29c772f94c400e2c99ef5db9/SoundFile-0.10.3.post1-py2.py3-none-any.whl\n",
            "Collecting pooch>=1.0\n",
            "\u001b[?25l  Downloading https://files.pythonhosted.org/packages/ce/11/d7a1dc8173a4085759710e69aae6e070d0d432db84013c7c343e4e522b76/pooch-1.2.0-py3-none-any.whl (47kB)\n",
            "\u001b[K     |████████████████████████████████| 51kB 6.1MB/s \n",
            "\u001b[?25hRequirement already satisfied: pandas in /usr/local/lib/python3.6/dist-packages (from jams->mirdata==0.2.0.dev0) (1.1.2)\n",
            "Requirement already satisfied: sortedcontainers>=2.0.0 in /usr/local/lib/python3.6/dist-packages (from jams->mirdata==0.2.0.dev0) (2.2.2)\n",
            "Collecting jsonschema>=3.0.0\n",
            "\u001b[?25l  Downloading https://files.pythonhosted.org/packages/c5/8f/51e89ce52a085483359217bc72cdbf6e75ee595d5b1d4b5ade40c7e018b8/jsonschema-3.2.0-py2.py3-none-any.whl (56kB)\n",
            "\u001b[K     |████████████████████████████████| 61kB 7.1MB/s \n",
            "\u001b[?25hRequirement already satisfied: six in /usr/local/lib/python3.6/dist-packages (from jams->mirdata==0.2.0.dev0) (1.15.0)\n",
            "Collecting mir_eval>=0.5\n",
            "\u001b[?25l  Downloading https://files.pythonhosted.org/packages/0a/fe/be4f7a59ed71938e21e89f23afe93eea0d39eb3e77f83754a12028cf1a68/mir_eval-0.6.tar.gz (87kB)\n",
            "\u001b[K     |████████████████████████████████| 92kB 8.7MB/s \n",
            "\u001b[?25hRequirement already satisfied: certifi>=2017.4.17 in /usr/local/lib/python3.6/dist-packages (from requests->mirdata==0.2.0.dev0) (2020.6.20)\n",
            "Requirement already satisfied: idna<3,>=2.5 in /usr/local/lib/python3.6/dist-packages (from requests->mirdata==0.2.0.dev0) (2.10)\n",
            "Requirement already satisfied: chardet<4,>=3.0.2 in /usr/local/lib/python3.6/dist-packages (from requests->mirdata==0.2.0.dev0) (3.0.4)\n",
            "Requirement already satisfied: urllib3!=1.25.0,!=1.25.1,<1.26,>=1.21.1 in /usr/local/lib/python3.6/dist-packages (from requests->mirdata==0.2.0.dev0) (1.24.3)\n",
            "Collecting mido>=1.1.16\n",
            "\u001b[?25l  Downloading https://files.pythonhosted.org/packages/20/0a/81beb587b1ae832ea6a1901dc7c6faa380e8dd154e0a862f0a9f3d2afab9/mido-1.2.9-py2.py3-none-any.whl (52kB)\n",
            "\u001b[K     |████████████████████████████████| 61kB 7.2MB/s \n",
            "\u001b[?25hRequirement already satisfied: cffi>=1.0 in /usr/local/lib/python3.6/dist-packages (from soundfile>=0.9.0->librosa>=0.7.0->mirdata==0.2.0.dev0) (1.14.3)\n",
            "Requirement already satisfied: packaging in /usr/local/lib/python3.6/dist-packages (from pooch>=1.0->librosa>=0.7.0->mirdata==0.2.0.dev0) (20.4)\n",
            "Collecting appdirs\n",
            "  Downloading https://files.pythonhosted.org/packages/3b/00/2344469e2084fb287c2e0b57b72910309874c3245463acd6cf5e3db69324/appdirs-1.4.4-py2.py3-none-any.whl\n",
            "Requirement already satisfied: pytz>=2017.2 in /usr/local/lib/python3.6/dist-packages (from pandas->jams->mirdata==0.2.0.dev0) (2018.9)\n",
            "Requirement already satisfied: python-dateutil>=2.7.3 in /usr/local/lib/python3.6/dist-packages (from pandas->jams->mirdata==0.2.0.dev0) (2.8.1)\n",
            "Requirement already satisfied: importlib-metadata; python_version < \"3.8\" in /usr/local/lib/python3.6/dist-packages (from jsonschema>=3.0.0->jams->mirdata==0.2.0.dev0) (2.0.0)\n",
            "Requirement already satisfied: pyrsistent>=0.14.0 in /usr/local/lib/python3.6/dist-packages (from jsonschema>=3.0.0->jams->mirdata==0.2.0.dev0) (0.17.3)\n",
            "Requirement already satisfied: attrs>=17.4.0 in /usr/local/lib/python3.6/dist-packages (from jsonschema>=3.0.0->jams->mirdata==0.2.0.dev0) (20.2.0)\n",
            "Requirement already satisfied: future in /usr/local/lib/python3.6/dist-packages (from mir_eval>=0.5->jams->mirdata==0.2.0.dev0) (0.16.0)\n",
            "Requirement already satisfied: pycparser in /usr/local/lib/python3.6/dist-packages (from cffi>=1.0->soundfile>=0.9.0->librosa>=0.7.0->mirdata==0.2.0.dev0) (2.20)\n",
            "Requirement already satisfied: pyparsing>=2.0.2 in /usr/local/lib/python3.6/dist-packages (from packaging->pooch>=1.0->librosa>=0.7.0->mirdata==0.2.0.dev0) (2.4.7)\n",
            "Requirement already satisfied: zipp>=0.5 in /usr/local/lib/python3.6/dist-packages (from importlib-metadata; python_version < \"3.8\"->jsonschema>=3.0.0->jams->mirdata==0.2.0.dev0) (3.2.0)\n",
            "Building wheels for collected packages: mirdata, librosa, jams, pretty-midi, mir-eval\n",
            "  Building wheel for mirdata (setup.py) ... \u001b[?25l\u001b[?25hdone\n",
            "  Created wheel for mirdata: filename=mirdata-0.2.0.dev0-cp36-none-any.whl size=2180665 sha256=a1e300f094b0a6cacf52c1c31ebc14e8b0a7445bbdabfa99702bf398527140f8\n",
            "  Stored in directory: /tmp/pip-ephem-wheel-cache-xcrgf8sz/wheels/43/56/25/5f9910343ca6df338209277f12ba4c74fe7d4ec302cd7c54c4\n",
            "  Building wheel for librosa (setup.py) ... \u001b[?25l\u001b[?25hdone\n",
            "  Created wheel for librosa: filename=librosa-0.8.0-cp36-none-any.whl size=201376 sha256=cf46e3907c6c14281fee6c07bf58883a635dedecf5f8bd5ea0b9b7ba8f710ce4\n",
            "  Stored in directory: /root/.cache/pip/wheels/ee/10/1e/382bb4369e189938d5c02e06d10c651817da8d485bfd1647c9\n",
            "  Building wheel for jams (setup.py) ... \u001b[?25l\u001b[?25hdone\n",
            "  Created wheel for jams: filename=jams-0.3.4-cp36-none-any.whl size=64925 sha256=ac90a5440c33019116e6208573d65747f68736f28fbb2280c5c55d80eb6d3970\n",
            "  Stored in directory: /root/.cache/pip/wheels/2b/b8/c7/092096a3af0eb864cca4e79a44bc883dee5b9767da2c6f8ab3\n",
            "  Building wheel for pretty-midi (setup.py) ... \u001b[?25l\u001b[?25hdone\n",
            "  Created wheel for pretty-midi: filename=pretty_midi-0.2.9-cp36-none-any.whl size=5591954 sha256=ff51ea0a61ade0777b4c71a4017188d5801bf0948c68c0cae4a1b4e01b0ece78\n",
            "  Stored in directory: /root/.cache/pip/wheels/4c/a1/c6/b5697841db1112c6e5866d75a6b6bf1bef73b874782556ba66\n",
            "  Building wheel for mir-eval (setup.py) ... \u001b[?25l\u001b[?25hdone\n",
            "  Created wheel for mir-eval: filename=mir_eval-0.6-cp36-none-any.whl size=96516 sha256=8178f08e7cacc9bd5e5b362e30412c20fa89ffb7dcc22e72d35476a0212fb316\n",
            "  Stored in directory: /root/.cache/pip/wheels/49/ce/30/730fa72addf275e49d90683b01b3613048b4be3bf7ff8eb6ec\n",
            "Successfully built mirdata librosa jams pretty-midi mir-eval\n",
            "\u001b[31mERROR: nbclient 0.5.0 has requirement jupyter-client>=6.1.5, but you'll have jupyter-client 5.3.5 which is incompatible.\u001b[0m\n",
            "Installing collected packages: soundfile, appdirs, pooch, librosa, jsonschema, mir-eval, jams, mido, pretty-midi, mirdata\n",
            "  Found existing installation: librosa 0.6.3\n",
            "    Uninstalling librosa-0.6.3:\n",
            "      Successfully uninstalled librosa-0.6.3\n",
            "  Found existing installation: jsonschema 2.6.0\n",
            "    Uninstalling jsonschema-2.6.0:\n",
            "      Successfully uninstalled jsonschema-2.6.0\n",
            "Successfully installed appdirs-1.4.4 jams-0.3.4 jsonschema-3.2.0 librosa-0.8.0 mido-1.2.9 mir-eval-0.6 mirdata-0.2.0.dev0 pooch-1.2.0 pretty-midi-0.2.9 soundfile-0.10.3.post1\n"
          ],
          "name": "stdout"
        }
      ]
    },
    {
      "cell_type": "code",
      "metadata": {
        "id": "g4ffDVxONTFt",
        "outputId": "d9b3ebb8-af27-46e5-fd78-4fe889ea8ab1",
        "colab": {
          "base_uri": "https://localhost:8080/",
          "height": 228
        }
      },
      "source": [
        "import mirdata.giantsteps_tempo as gs_tempo\n",
        "\n",
        "gs_tempo.download()\n"
      ],
      "execution_count": 2,
      "outputs": [
        {
          "output_type": "stream",
          "text": [
            "\r0.00B [00:00, ?B/s]"
          ],
          "name": "stderr"
        },
        {
          "output_type": "stream",
          "text": [
            "Starting to download ['annotations'] to folder /root/mir_datasets/GiantSteps_tempo\n",
            "> downloading annotations\n"
          ],
          "name": "stdout"
        },
        {
          "output_type": "stream",
          "text": [
            "2.59MB [00:01, 2.23MB/s]\n"
          ],
          "name": "stderr"
        },
        {
          "output_type": "stream",
          "text": [
            "\n",
            "            Unfortunately the audio files of the Giant Steps Tempo dataset are not available\n",
            "            for download. If you have the Beatles dataset, place the contents into\n",
            "            a folder called Beatles with the following structure:\n",
            "                > GiantSteps_tempo/\n",
            "                    > giantsteps-tempo-dataset-0b7d47ba8cae59d3535a02e3db69e2cf6d0af5bb/\n",
            "                    > audio/\n",
            "            and copy the Beatles folder to /root/mir_datasets/GiantSteps_tempo\n",
            "        \n"
          ],
          "name": "stdout"
        }
      ]
    },
    {
      "cell_type": "markdown",
      "metadata": {
        "id": "oDmNfwgm0DBv"
      },
      "source": [
        "Upload to colab the audio in `/root/mir_datasets/GiantSteps_tempo`."
      ]
    },
    {
      "cell_type": "markdown",
      "metadata": {
        "id": "gQkkGz9RQ5o1"
      },
      "source": [
        "### With the script"
      ]
    },
    {
      "cell_type": "code",
      "metadata": {
        "id": "sf4-QvalxFo8",
        "outputId": "b3aecd49-c51c-4255-81a0-ac1224e5d58f",
        "colab": {
          "base_uri": "https://localhost:8080/"
        }
      },
      "source": [
        "%%shell\n",
        "# pwd\n",
        "# mir_datasets_path='/root/mir_datasets/GiantSteps_tempo'\n",
        "# cd \"$mir_datasets_path/giantsteps-tempo-dataset-0b7d47ba8cae59d3535a02e3db69e2cf6d0af5bb\"\n",
        "# ls\n",
        "\n",
        "# bash audio_dl.sh\n",
        "# cp -r audio ..\n",
        "\n",
        "\n"
      ],
      "execution_count": null,
      "outputs": [
        {
          "output_type": "execute_result",
          "data": {
            "text/plain": [
              ""
            ]
          },
          "metadata": {
            "tags": []
          },
          "execution_count": 9
        }
      ]
    },
    {
      "cell_type": "markdown",
      "metadata": {
        "id": "_fFVqMv1RGFV"
      },
      "source": [
        "### From gdrive"
      ]
    },
    {
      "cell_type": "code",
      "metadata": {
        "id": "bll5mnyiO01u",
        "outputId": "8c44a70c-bbb8-441e-c05d-ad80ffebd725",
        "colab": {
          "base_uri": "https://localhost:8080/",
          "height": 35
        }
      },
      "source": [
        "from google.colab import drive\n",
        "drive.mount('/content/gdrive')\n"
      ],
      "execution_count": 3,
      "outputs": [
        {
          "output_type": "stream",
          "text": [
            "Mounted at /content/gdrive\n"
          ],
          "name": "stdout"
        }
      ]
    },
    {
      "cell_type": "code",
      "metadata": {
        "id": "zwBp8uyUPNYi",
        "outputId": "eec141a9-1934-42b0-a53e-3345322864c7",
        "colab": {
          "base_uri": "https://localhost:8080/",
          "height": 17
        }
      },
      "source": [
        "%%shell\n",
        "cp -r \"/content/gdrive/My Drive/giantsteps_tempo/audio\" /root/mir_datasets/GiantSteps_tempo"
      ],
      "execution_count": 4,
      "outputs": [
        {
          "output_type": "execute_result",
          "data": {
            "text/plain": [
              ""
            ]
          },
          "metadata": {
            "tags": []
          },
          "execution_count": 4
        }
      ]
    },
    {
      "cell_type": "markdown",
      "metadata": {
        "id": "Isss4B2e0A06"
      },
      "source": [
        "And then validate the audio and annotation files."
      ]
    },
    {
      "cell_type": "code",
      "metadata": {
        "id": "CiruAI9HxeXW",
        "outputId": "a55a7aa3-3dbb-44df-eed5-b90ff8ff89f5",
        "colab": {
          "base_uri": "https://localhost:8080/",
          "height": 70
        }
      },
      "source": [
        "\n",
        "gs_tempo.validate()"
      ],
      "execution_count": 5,
      "outputs": [
        {
          "output_type": "stream",
          "text": [
            "Success: the dataset is complete and all files are valid.\n",
            "--------------------\n"
          ],
          "name": "stdout"
        },
        {
          "output_type": "execute_result",
          "data": {
            "text/plain": [
              "({}, {})"
            ]
          },
          "metadata": {
            "tags": []
          },
          "execution_count": 5
        }
      ]
    },
    {
      "cell_type": "markdown",
      "metadata": {
        "id": "9H8ZMfI8-jXH"
      },
      "source": [
        "#Install essentia"
      ]
    },
    {
      "cell_type": "code",
      "metadata": {
        "id": "2FFpLAuMInTB",
        "outputId": "63e518e1-03f8-4906-b2fc-5dbcc1c8288e",
        "colab": {
          "base_uri": "https://localhost:8080/",
          "height": 158
        }
      },
      "source": [
        "# To run this notebook on Google Colab, uncomment and run this code\n",
        "\n",
        "!pip install essentia\n",
        "\n",
        "\n"
      ],
      "execution_count": 6,
      "outputs": [
        {
          "output_type": "stream",
          "text": [
            "Collecting essentia\n",
            "\u001b[?25l  Downloading https://files.pythonhosted.org/packages/d6/cf/3c776d02b63fed7b0958bef2ce57b900870e2ac3f1fd8ffbb63f22d0e69e/essentia-2.1b6.dev234-cp36-cp36m-manylinux1_x86_64.whl (11.7MB)\n",
            "\u001b[K     |████████████████████████████████| 11.7MB 353kB/s \n",
            "\u001b[?25hRequirement already satisfied: numpy>=1.8.2 in /usr/local/lib/python3.6/dist-packages (from essentia) (1.18.5)\n",
            "Requirement already satisfied: six in /usr/local/lib/python3.6/dist-packages (from essentia) (1.15.0)\n",
            "Requirement already satisfied: pyyaml in /usr/local/lib/python3.6/dist-packages (from essentia) (3.13)\n",
            "Installing collected packages: essentia\n",
            "Successfully installed essentia-2.1b6.dev234\n"
          ],
          "name": "stdout"
        }
      ]
    },
    {
      "cell_type": "code",
      "metadata": {
        "id": "ey1chwBAttWn"
      },
      "source": [
        ""
      ],
      "execution_count": null,
      "outputs": []
    }
  ]
}